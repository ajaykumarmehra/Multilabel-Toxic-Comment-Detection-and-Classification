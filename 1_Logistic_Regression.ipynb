{
  "nbformat": 4,
  "nbformat_minor": 0,
  "metadata": {
    "colab": {
      "name": "Logistic_Regression_P.ipynb",
      "provenance": [],
      "collapsed_sections": [],
      "authorship_tag": "ABX9TyO62tQaZfOuHVRIIWpw19dl",
      "include_colab_link": true
    },
    "kernelspec": {
      "name": "python3",
      "display_name": "Python 3"
    }
  },
  "cells": [
    {
      "cell_type": "markdown",
      "metadata": {
        "id": "view-in-github",
        "colab_type": "text"
      },
      "source": [
        "<a href=\"https://colab.research.google.com/github/ajaykumarmehra/Toxic-Comment-Detection-and-Classification/blob/main/Logistic_Regression_P.ipynb\" target=\"_parent\"><img src=\"https://colab.research.google.com/assets/colab-badge.svg\" alt=\"Open In Colab\"/></a>"
      ]
    },
    {
      "cell_type": "code",
      "metadata": {
        "colab": {
          "base_uri": "https://localhost:8080/"
        },
        "id": "nghLojiVKot0",
        "outputId": "8a8877bb-2f27-4480-ff90-571e844de7f9"
      },
      "source": [
        "from google.colab import drive\n",
        "drive.mount(\"/content/gdrive\")"
      ],
      "execution_count": null,
      "outputs": [
        {
          "output_type": "stream",
          "text": [
            "Mounted at /content/gdrive\n"
          ],
          "name": "stdout"
        }
      ]
    },
    {
      "cell_type": "code",
      "metadata": {
        "id": "fupW5rvHLH_G"
      },
      "source": [
        "path='/content/gdrive/My Drive/dataset_toxic_comment/'\n",
        "import pandas as pd\n",
        "train=pd.read_csv(path+\"train.csv\")\n",
        "test=pd.read_csv(path+\"test.csv\")\n",
        "labels = pd.read_csv(path + \"test_labels.csv\")"
      ],
      "execution_count": null,
      "outputs": []
    },
    {
      "cell_type": "code",
      "metadata": {
        "colab": {
          "base_uri": "https://localhost:8080/",
          "height": 204
        },
        "id": "RfPzLJKgLNRm",
        "outputId": "9880a188-0ece-48ae-987a-e9fe87d84ecf"
      },
      "source": [
        "train.head()"
      ],
      "execution_count": null,
      "outputs": [
        {
          "output_type": "execute_result",
          "data": {
            "text/html": [
              "<div>\n",
              "<style scoped>\n",
              "    .dataframe tbody tr th:only-of-type {\n",
              "        vertical-align: middle;\n",
              "    }\n",
              "\n",
              "    .dataframe tbody tr th {\n",
              "        vertical-align: top;\n",
              "    }\n",
              "\n",
              "    .dataframe thead th {\n",
              "        text-align: right;\n",
              "    }\n",
              "</style>\n",
              "<table border=\"1\" class=\"dataframe\">\n",
              "  <thead>\n",
              "    <tr style=\"text-align: right;\">\n",
              "      <th></th>\n",
              "      <th>id</th>\n",
              "      <th>comment_text</th>\n",
              "      <th>toxic</th>\n",
              "      <th>severe_toxic</th>\n",
              "      <th>obscene</th>\n",
              "      <th>threat</th>\n",
              "      <th>insult</th>\n",
              "      <th>identity_hate</th>\n",
              "    </tr>\n",
              "  </thead>\n",
              "  <tbody>\n",
              "    <tr>\n",
              "      <th>0</th>\n",
              "      <td>0000997932d777bf</td>\n",
              "      <td>Explanation\\nWhy the edits made under my usern...</td>\n",
              "      <td>0</td>\n",
              "      <td>0</td>\n",
              "      <td>0</td>\n",
              "      <td>0</td>\n",
              "      <td>0</td>\n",
              "      <td>0</td>\n",
              "    </tr>\n",
              "    <tr>\n",
              "      <th>1</th>\n",
              "      <td>000103f0d9cfb60f</td>\n",
              "      <td>D'aww! He matches this background colour I'm s...</td>\n",
              "      <td>0</td>\n",
              "      <td>0</td>\n",
              "      <td>0</td>\n",
              "      <td>0</td>\n",
              "      <td>0</td>\n",
              "      <td>0</td>\n",
              "    </tr>\n",
              "    <tr>\n",
              "      <th>2</th>\n",
              "      <td>000113f07ec002fd</td>\n",
              "      <td>Hey man, I'm really not trying to edit war. It...</td>\n",
              "      <td>0</td>\n",
              "      <td>0</td>\n",
              "      <td>0</td>\n",
              "      <td>0</td>\n",
              "      <td>0</td>\n",
              "      <td>0</td>\n",
              "    </tr>\n",
              "    <tr>\n",
              "      <th>3</th>\n",
              "      <td>0001b41b1c6bb37e</td>\n",
              "      <td>\"\\nMore\\nI can't make any real suggestions on ...</td>\n",
              "      <td>0</td>\n",
              "      <td>0</td>\n",
              "      <td>0</td>\n",
              "      <td>0</td>\n",
              "      <td>0</td>\n",
              "      <td>0</td>\n",
              "    </tr>\n",
              "    <tr>\n",
              "      <th>4</th>\n",
              "      <td>0001d958c54c6e35</td>\n",
              "      <td>You, sir, are my hero. Any chance you remember...</td>\n",
              "      <td>0</td>\n",
              "      <td>0</td>\n",
              "      <td>0</td>\n",
              "      <td>0</td>\n",
              "      <td>0</td>\n",
              "      <td>0</td>\n",
              "    </tr>\n",
              "  </tbody>\n",
              "</table>\n",
              "</div>"
            ],
            "text/plain": [
              "                 id  ... identity_hate\n",
              "0  0000997932d777bf  ...             0\n",
              "1  000103f0d9cfb60f  ...             0\n",
              "2  000113f07ec002fd  ...             0\n",
              "3  0001b41b1c6bb37e  ...             0\n",
              "4  0001d958c54c6e35  ...             0\n",
              "\n",
              "[5 rows x 8 columns]"
            ]
          },
          "metadata": {
            "tags": []
          },
          "execution_count": 3
        }
      ]
    },
    {
      "cell_type": "code",
      "metadata": {
        "colab": {
          "base_uri": "https://localhost:8080/",
          "height": 297
        },
        "id": "lqmcZczVLQZm",
        "outputId": "3ad0dad4-e1af-4317-f989-71f658f901b6"
      },
      "source": [
        "train.describe()"
      ],
      "execution_count": null,
      "outputs": [
        {
          "output_type": "execute_result",
          "data": {
            "text/html": [
              "<div>\n",
              "<style scoped>\n",
              "    .dataframe tbody tr th:only-of-type {\n",
              "        vertical-align: middle;\n",
              "    }\n",
              "\n",
              "    .dataframe tbody tr th {\n",
              "        vertical-align: top;\n",
              "    }\n",
              "\n",
              "    .dataframe thead th {\n",
              "        text-align: right;\n",
              "    }\n",
              "</style>\n",
              "<table border=\"1\" class=\"dataframe\">\n",
              "  <thead>\n",
              "    <tr style=\"text-align: right;\">\n",
              "      <th></th>\n",
              "      <th>toxic</th>\n",
              "      <th>severe_toxic</th>\n",
              "      <th>obscene</th>\n",
              "      <th>threat</th>\n",
              "      <th>insult</th>\n",
              "      <th>identity_hate</th>\n",
              "    </tr>\n",
              "  </thead>\n",
              "  <tbody>\n",
              "    <tr>\n",
              "      <th>count</th>\n",
              "      <td>159571.000000</td>\n",
              "      <td>159571.000000</td>\n",
              "      <td>159571.000000</td>\n",
              "      <td>159571.000000</td>\n",
              "      <td>159571.000000</td>\n",
              "      <td>159571.000000</td>\n",
              "    </tr>\n",
              "    <tr>\n",
              "      <th>mean</th>\n",
              "      <td>0.095844</td>\n",
              "      <td>0.009996</td>\n",
              "      <td>0.052948</td>\n",
              "      <td>0.002996</td>\n",
              "      <td>0.049364</td>\n",
              "      <td>0.008805</td>\n",
              "    </tr>\n",
              "    <tr>\n",
              "      <th>std</th>\n",
              "      <td>0.294379</td>\n",
              "      <td>0.099477</td>\n",
              "      <td>0.223931</td>\n",
              "      <td>0.054650</td>\n",
              "      <td>0.216627</td>\n",
              "      <td>0.093420</td>\n",
              "    </tr>\n",
              "    <tr>\n",
              "      <th>min</th>\n",
              "      <td>0.000000</td>\n",
              "      <td>0.000000</td>\n",
              "      <td>0.000000</td>\n",
              "      <td>0.000000</td>\n",
              "      <td>0.000000</td>\n",
              "      <td>0.000000</td>\n",
              "    </tr>\n",
              "    <tr>\n",
              "      <th>25%</th>\n",
              "      <td>0.000000</td>\n",
              "      <td>0.000000</td>\n",
              "      <td>0.000000</td>\n",
              "      <td>0.000000</td>\n",
              "      <td>0.000000</td>\n",
              "      <td>0.000000</td>\n",
              "    </tr>\n",
              "    <tr>\n",
              "      <th>50%</th>\n",
              "      <td>0.000000</td>\n",
              "      <td>0.000000</td>\n",
              "      <td>0.000000</td>\n",
              "      <td>0.000000</td>\n",
              "      <td>0.000000</td>\n",
              "      <td>0.000000</td>\n",
              "    </tr>\n",
              "    <tr>\n",
              "      <th>75%</th>\n",
              "      <td>0.000000</td>\n",
              "      <td>0.000000</td>\n",
              "      <td>0.000000</td>\n",
              "      <td>0.000000</td>\n",
              "      <td>0.000000</td>\n",
              "      <td>0.000000</td>\n",
              "    </tr>\n",
              "    <tr>\n",
              "      <th>max</th>\n",
              "      <td>1.000000</td>\n",
              "      <td>1.000000</td>\n",
              "      <td>1.000000</td>\n",
              "      <td>1.000000</td>\n",
              "      <td>1.000000</td>\n",
              "      <td>1.000000</td>\n",
              "    </tr>\n",
              "  </tbody>\n",
              "</table>\n",
              "</div>"
            ],
            "text/plain": [
              "               toxic   severe_toxic  ...         insult  identity_hate\n",
              "count  159571.000000  159571.000000  ...  159571.000000  159571.000000\n",
              "mean        0.095844       0.009996  ...       0.049364       0.008805\n",
              "std         0.294379       0.099477  ...       0.216627       0.093420\n",
              "min         0.000000       0.000000  ...       0.000000       0.000000\n",
              "25%         0.000000       0.000000  ...       0.000000       0.000000\n",
              "50%         0.000000       0.000000  ...       0.000000       0.000000\n",
              "75%         0.000000       0.000000  ...       0.000000       0.000000\n",
              "max         1.000000       1.000000  ...       1.000000       1.000000\n",
              "\n",
              "[8 rows x 6 columns]"
            ]
          },
          "metadata": {
            "tags": []
          },
          "execution_count": 4
        }
      ]
    },
    {
      "cell_type": "code",
      "metadata": {
        "colab": {
          "base_uri": "https://localhost:8080/"
        },
        "id": "-00UkeB4Pilo",
        "outputId": "60a4d583-92e5-4cd3-8d68-2aac8e022dc2"
      },
      "source": [
        "classes = list(train.columns)[2:]\n",
        "classes\n"
      ],
      "execution_count": null,
      "outputs": [
        {
          "output_type": "execute_result",
          "data": {
            "text/plain": [
              "['toxic', 'severe_toxic', 'obscene', 'threat', 'insult', 'identity_hate']"
            ]
          },
          "metadata": {
            "tags": []
          },
          "execution_count": 5
        }
      ]
    },
    {
      "cell_type": "code",
      "metadata": {
        "colab": {
          "base_uri": "https://localhost:8080/"
        },
        "id": "vfs4GrGHPnpP",
        "outputId": "d18aa3d2-b33d-472c-b755-0db459772cd6"
      },
      "source": [
        "train[classes].sum()"
      ],
      "execution_count": null,
      "outputs": [
        {
          "output_type": "execute_result",
          "data": {
            "text/plain": [
              "toxic            15294\n",
              "severe_toxic      1595\n",
              "obscene           8449\n",
              "threat             478\n",
              "insult            7877\n",
              "identity_hate     1405\n",
              "dtype: int64"
            ]
          },
          "metadata": {
            "tags": []
          },
          "execution_count": 6
        }
      ]
    },
    {
      "cell_type": "code",
      "metadata": {
        "colab": {
          "base_uri": "https://localhost:8080/"
        },
        "id": "kHri0ztDPsK6",
        "outputId": "fcdd335f-574f-46e1-a7a5-bbb5e45df0db"
      },
      "source": [
        "links = '(http://.*?\\s)|(http://.*)'\n",
        "ip_addr = '\\d{1,3}\\.\\d{1,3}\\.\\d{1,3}\\.\\d{1,3}'\n",
        "users = '\\[\\[User.*'\n",
        "newline = '\\\\n'\n",
        "print(train['comment_text'].str.contains(links).sum())\n",
        "print(train['comment_text'].str.contains(ip_addr).sum())\n",
        "print(train['comment_text'].str.contains(users).sum())\n",
        "print(train['comment_text'].str.contains(newline).sum())"
      ],
      "execution_count": null,
      "outputs": [
        {
          "output_type": "stream",
          "text": [
            "/usr/local/lib/python3.7/dist-packages/pandas/core/strings.py:2001: UserWarning: This pattern has match groups. To actually get the groups, use str.extract.\n",
            "  return func(self, *args, **kwargs)\n"
          ],
          "name": "stderr"
        },
        {
          "output_type": "stream",
          "text": [
            "4426\n",
            "10081\n",
            "296\n",
            "94466\n"
          ],
          "name": "stdout"
        }
      ]
    },
    {
      "cell_type": "code",
      "metadata": {
        "id": "gsYdppnPPufz"
      },
      "source": [
        "def clean(comment):\n",
        "  import re\n",
        "  comment=comment.lower()\n",
        "  comment=re.sub(links,'',comment)\n",
        "  comment=re.sub(ip_addr,'',comment)\n",
        "  comment=re.sub(users,'',comment)\n",
        "  comment=re.sub(newline,'',comment)\n",
        "  return comment"
      ],
      "execution_count": null,
      "outputs": []
    },
    {
      "cell_type": "code",
      "metadata": {
        "id": "cuVaxaMQPxyj"
      },
      "source": [
        "train['comment_text']=train['comment_text'].map(lambda i:clean(i))\n",
        "test['comment_text']=test['comment_text'].map(lambda i:clean(i))"
      ],
      "execution_count": null,
      "outputs": []
    },
    {
      "cell_type": "code",
      "metadata": {
        "colab": {
          "base_uri": "https://localhost:8080/"
        },
        "id": "drEOb7zGP0SH",
        "outputId": "b66a9330-61c2-497c-bb00-f5679617e626"
      },
      "source": [
        "print(train['comment_text'].str.contains(links).sum())\n",
        "print(train['comment_text'].str.contains(ip_addr).sum())\n",
        "print(train['comment_text'].str.contains(users).sum())\n",
        "print(train['comment_text'].str.contains(newline).sum())"
      ],
      "execution_count": null,
      "outputs": [
        {
          "output_type": "stream",
          "text": [
            "/usr/local/lib/python3.7/dist-packages/pandas/core/strings.py:2001: UserWarning: This pattern has match groups. To actually get the groups, use str.extract.\n",
            "  return func(self, *args, **kwargs)\n"
          ],
          "name": "stderr"
        },
        {
          "output_type": "stream",
          "text": [
            "0\n",
            "2\n",
            "0\n",
            "0\n"
          ],
          "name": "stdout"
        }
      ]
    },
    {
      "cell_type": "code",
      "metadata": {
        "colab": {
          "base_uri": "https://localhost:8080/"
        },
        "id": "D3LULC8RP384",
        "outputId": "88bd96c4-afff-4f89-dbce-2f118aad6df0"
      },
      "source": [
        "x=train['comment_text']\n",
        "y=train.iloc[:,2:8]\n",
        "print(x.shape)\n",
        "print(y.shape)"
      ],
      "execution_count": null,
      "outputs": [
        {
          "output_type": "stream",
          "text": [
            "(159571,)\n",
            "(159571, 6)\n"
          ],
          "name": "stdout"
        }
      ]
    },
    {
      "cell_type": "code",
      "metadata": {
        "id": "KxWJ6lFNP9mK"
      },
      "source": [
        "from sklearn.model_selection import train_test_split\n",
        "X_train, X_val, y_train, y_val = train_test_split(x,y,test_size=0.2,random_state=1)"
      ],
      "execution_count": null,
      "outputs": []
    },
    {
      "cell_type": "code",
      "metadata": {
        "id": "kyti3A1CQACr"
      },
      "source": [
        "from sklearn.feature_extraction.text import TfidfVectorizer"
      ],
      "execution_count": null,
      "outputs": []
    },
    {
      "cell_type": "code",
      "metadata": {
        "id": "2qW0xc8JQBwX"
      },
      "source": [
        "tfidf=TfidfVectorizer(max_features=5000,strip_accents='unicode',stop_words='english',token_pattern=r'\\w{2,}')"
      ],
      "execution_count": null,
      "outputs": []
    },
    {
      "cell_type": "code",
      "metadata": {
        "colab": {
          "base_uri": "https://localhost:8080/"
        },
        "id": "-yWfWpOJQDkz",
        "outputId": "4a11cb10-a9a8-42b7-afd6-488b2161a4a7"
      },
      "source": [
        "tfidf.fit(X_train)\n",
        "X_train_feat=tfidf.fit_transform(X_train)\n",
        "X_train_feat.shape"
      ],
      "execution_count": null,
      "outputs": [
        {
          "output_type": "execute_result",
          "data": {
            "text/plain": [
              "(127656, 5000)"
            ]
          },
          "metadata": {
            "tags": []
          },
          "execution_count": 15
        }
      ]
    },
    {
      "cell_type": "code",
      "metadata": {
        "colab": {
          "base_uri": "https://localhost:8080/"
        },
        "id": "l4CLY0fAQG6I",
        "outputId": "848f74d9-fc47-4879-f00a-997b08a1ea99"
      },
      "source": [
        "X_val_feat=tfidf.transform(X_val)\n",
        "X_val_feat.shape"
      ],
      "execution_count": null,
      "outputs": [
        {
          "output_type": "execute_result",
          "data": {
            "text/plain": [
              "(31915, 5000)"
            ]
          },
          "metadata": {
            "tags": []
          },
          "execution_count": 16
        }
      ]
    },
    {
      "cell_type": "code",
      "metadata": {
        "id": "u48EeekRQKS3"
      },
      "source": [
        "import numpy as np\n",
        "\n",
        "labels = pd.read_csv(path + \"test_labels.csv\")\n",
        "labels=labels.iloc[:,1:]\n",
        "sum_labels=np.sum(labels,axis=1)\n",
        "idx=sum_labels>=0"
      ],
      "execution_count": null,
      "outputs": []
    },
    {
      "cell_type": "code",
      "metadata": {
        "colab": {
          "base_uri": "https://localhost:8080/"
        },
        "id": "nMxyuTtVQYKS",
        "outputId": "cd00f588-c3f6-42ee-c9c3-2b76a91cbe3d"
      },
      "source": [
        "labels_consider=labels[idx]\n",
        "test=test.iloc[:,1:]\n",
        "tests_consider=test[idx].values[:,0]\n",
        "\n",
        "print(labels_consider.shape, tests_consider.shape)"
      ],
      "execution_count": null,
      "outputs": [
        {
          "output_type": "stream",
          "text": [
            "(63978, 6) (63978,)\n"
          ],
          "name": "stdout"
        }
      ]
    },
    {
      "cell_type": "code",
      "metadata": {
        "colab": {
          "base_uri": "https://localhost:8080/"
        },
        "id": "gLmZMnrDQaX_",
        "outputId": "d0ccf228-be81-41e4-aae3-a3826916a9ee"
      },
      "source": [
        "X_test_feat=tfidf.transform(tests_consider)\n",
        "X_test_feat.shape"
      ],
      "execution_count": null,
      "outputs": [
        {
          "output_type": "execute_result",
          "data": {
            "text/plain": [
              "(63978, 5000)"
            ]
          },
          "metadata": {
            "tags": []
          },
          "execution_count": 19
        }
      ]
    },
    {
      "cell_type": "code",
      "metadata": {
        "id": "lQoa8SW7QczI"
      },
      "source": [
        "from sklearn.linear_model import LogisticRegression\n",
        "from sklearn.metrics import roc_auc_score\n",
        "\n",
        "model=LogisticRegression(C=20.0, max_iter=1000000)"
      ],
      "execution_count": null,
      "outputs": []
    },
    {
      "cell_type": "code",
      "metadata": {
        "colab": {
          "base_uri": "https://localhost:8080/"
        },
        "id": "G7b5lEnwQgWb",
        "outputId": "55d8dfac-4f6d-40e1-eab5-fac3e8be7b2a"
      },
      "source": [
        "from sklearn.metrics import roc_auc_score, hamming_loss, accuracy_score, log_loss\n",
        "scores_roc_aoc = []\n",
        "scores_accuracy = []\n",
        "scores_hamming_loss = []\n",
        "scores_log_loss = []\n",
        "for label_name in classes:\n",
        "    print('Class:', label_name)\n",
        "\n",
        "    model.fit(X_train_feat, y_train[label_name])\n",
        "    preds_train = model.predict(X_train_feat)\n",
        "    train_roc_auc = roc_auc_score(y_train[label_name], preds_train)\n",
        "    print('Train ROC AUC Score:', train_roc_auc)\n",
        "\n",
        "    preds_val = model.predict(X_val_feat)\n",
        "    val_roc_auc = roc_auc_score(y_val[label_name], preds_val)\n",
        "    print('Val ROC AUC Score:', val_roc_auc)\n",
        "\n",
        "    preds_test = model.predict(X_test_feat)\n",
        "    test_roc_auc = roc_auc_score(labels_consider[label_name], preds_test)\n",
        "    test_hamming_loss = hamming_loss(labels_consider[label_name], preds_test)\n",
        "    test_log_loss = log_loss(labels_consider[label_name], preds_test)\n",
        "    test_accuracy_score = accuracy_score(labels_consider[label_name], preds_test)\n",
        "    print('Test ROC AUC Score:', test_roc_auc)\n",
        "    scores_roc_aoc.append(test_roc_auc)\n",
        "    scores_accuracy.append(test_accuracy_score)\n",
        "    scores_hamming_loss.append(test_hamming_loss)\n",
        "    scores_log_loss.append(test_log_loss)\n",
        "    print(\"------------------\")\n",
        "\n",
        "\n",
        "print(\"ROC AUC Score: \", np.mean(scores_roc_aoc))\n",
        "print(\"Accuracy Score: \", np.mean(scores_accuracy))\n",
        "print(\"Hamming Loss: \", np.mean(scores_hamming_loss))\n",
        "print(\"Log Loss: \", np.mean(scores_log_loss))\n"
      ],
      "execution_count": null,
      "outputs": [
        {
          "output_type": "stream",
          "text": [
            "Class: toxic\n",
            "Train ROC AUC Score: 0.8520885625357045\n",
            "Val ROC AUC Score: 0.8284708856807569\n",
            "Test ROC AUC Score: 0.8517196277779139\n",
            "------------------\n",
            "Class: severe_toxic\n",
            "Train ROC AUC Score: 0.710836589525194\n",
            "Val ROC AUC Score: 0.6536129175994911\n",
            "Test ROC AUC Score: 0.6930700467936992\n",
            "------------------\n",
            "Class: obscene\n",
            "Train ROC AUC Score: 0.8871168996829872\n",
            "Val ROC AUC Score: 0.8481702859885106\n",
            "Test ROC AUC Score: 0.8246452756279133\n",
            "------------------\n",
            "Class: threat\n",
            "Train ROC AUC Score: 0.7850437507709571\n",
            "Val ROC AUC Score: 0.6481848081080189\n",
            "Test ROC AUC Score: 0.6721311079428165\n",
            "------------------\n",
            "Class: insult\n",
            "Train ROC AUC Score: 0.8279952554462947\n",
            "Val ROC AUC Score: 0.778175440137929\n",
            "Test ROC AUC Score: 0.7727821093131625\n",
            "------------------\n",
            "Class: identity_hate\n",
            "Train ROC AUC Score: 0.7386615357192625\n",
            "Val ROC AUC Score: 0.6547249503476384\n",
            "Test ROC AUC Score: 0.663344721253619\n",
            "------------------\n",
            "ROC AUC Score:  0.7462821481181874\n",
            "Accuracy Score:  0.9707034709848177\n",
            "Hamming Loss:  0.029296529015182305\n",
            "Log Loss:  1.0118792752266792\n"
          ],
          "name": "stdout"
        }
      ]
    },
    {
      "cell_type": "code",
      "metadata": {
        "id": "nSVfgOPov1oQ"
      },
      "source": [
        "import pickle\r\n",
        "path = '/content/gdrive/My Drive/dataset_toxic_comment/saved_model/Logistic_Regression/'\r\n",
        "pickle.dump(model, open(path + \"Logistic_Regression.sav\", 'wb'))"
      ],
      "execution_count": null,
      "outputs": []
    },
    {
      "cell_type": "code",
      "metadata": {
        "id": "QlV5AZ6kx8Re"
      },
      "source": [
        ""
      ],
      "execution_count": null,
      "outputs": []
    }
  ]
}
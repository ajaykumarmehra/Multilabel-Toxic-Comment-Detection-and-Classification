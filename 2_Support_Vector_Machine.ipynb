{
  "nbformat": 4,
  "nbformat_minor": 0,
  "metadata": {
    "accelerator": "GPU",
    "colab": {
      "name": "Support Vector Machine(Binary Relevance and ClassifierChain)_P.ipynb",
      "provenance": [],
      "authorship_tag": "ABX9TyOY9d4MoRT6/M07wt7NvQo7",
      "include_colab_link": true
    },
    "kernelspec": {
      "display_name": "Python 3",
      "name": "python3"
    }
  },
  "cells": [
    {
      "cell_type": "markdown",
      "metadata": {
        "id": "view-in-github",
        "colab_type": "text"
      },
      "source": [
        "<a href=\"https://colab.research.google.com/github/ajaykumarmehra/Toxic-Comment-Detection-and-Classification/blob/main/Support_Vector_Machine(Binary_Relevance_and_ClassifierChain)_P.ipynb\" target=\"_parent\"><img src=\"https://colab.research.google.com/assets/colab-badge.svg\" alt=\"Open In Colab\"/></a>"
      ]
    },
    {
      "cell_type": "code",
      "metadata": {
        "colab": {
          "base_uri": "https://localhost:8080/"
        },
        "id": "2x304KrzOXxF",
        "outputId": "1a5e0907-23c9-4568-ed6f-f1e4e06ac5aa"
      },
      "source": [
        "from google.colab import drive\r\n",
        "drive.mount('/content/gdrive')"
      ],
      "execution_count": null,
      "outputs": [
        {
          "output_type": "stream",
          "text": [
            "Mounted at /content/gdrive\n"
          ],
          "name": "stdout"
        }
      ]
    },
    {
      "cell_type": "code",
      "metadata": {
        "id": "IJKEeuQlP-2k"
      },
      "source": [
        "path='/content/gdrive/My Drive/dataset_toxic_comment/'\r\n",
        "import pandas as pd\r\n",
        "train=pd.read_csv(path+\"train.csv\")\r\n",
        "test=pd.read_csv(path+\"test.csv\")\r\n",
        "labels = pd.read_csv(path + \"test_labels.csv\")"
      ],
      "execution_count": null,
      "outputs": []
    },
    {
      "cell_type": "code",
      "metadata": {
        "id": "eXZYAwK1mza3"
      },
      "source": [
        "import pandas as pd\r\n",
        "import numpy as np"
      ],
      "execution_count": null,
      "outputs": []
    },
    {
      "cell_type": "code",
      "metadata": {
        "colab": {
          "base_uri": "https://localhost:8080/",
          "height": 204
        },
        "id": "vKwSqWpqRjmo",
        "outputId": "c8874909-6432-41d0-9402-63b94f9589dc"
      },
      "source": [
        "train.head()"
      ],
      "execution_count": null,
      "outputs": [
        {
          "output_type": "execute_result",
          "data": {
            "text/html": [
              "<div>\n",
              "<style scoped>\n",
              "    .dataframe tbody tr th:only-of-type {\n",
              "        vertical-align: middle;\n",
              "    }\n",
              "\n",
              "    .dataframe tbody tr th {\n",
              "        vertical-align: top;\n",
              "    }\n",
              "\n",
              "    .dataframe thead th {\n",
              "        text-align: right;\n",
              "    }\n",
              "</style>\n",
              "<table border=\"1\" class=\"dataframe\">\n",
              "  <thead>\n",
              "    <tr style=\"text-align: right;\">\n",
              "      <th></th>\n",
              "      <th>id</th>\n",
              "      <th>comment_text</th>\n",
              "      <th>toxic</th>\n",
              "      <th>severe_toxic</th>\n",
              "      <th>obscene</th>\n",
              "      <th>threat</th>\n",
              "      <th>insult</th>\n",
              "      <th>identity_hate</th>\n",
              "    </tr>\n",
              "  </thead>\n",
              "  <tbody>\n",
              "    <tr>\n",
              "      <th>0</th>\n",
              "      <td>0000997932d777bf</td>\n",
              "      <td>Explanation\\nWhy the edits made under my usern...</td>\n",
              "      <td>0</td>\n",
              "      <td>0</td>\n",
              "      <td>0</td>\n",
              "      <td>0</td>\n",
              "      <td>0</td>\n",
              "      <td>0</td>\n",
              "    </tr>\n",
              "    <tr>\n",
              "      <th>1</th>\n",
              "      <td>000103f0d9cfb60f</td>\n",
              "      <td>D'aww! He matches this background colour I'm s...</td>\n",
              "      <td>0</td>\n",
              "      <td>0</td>\n",
              "      <td>0</td>\n",
              "      <td>0</td>\n",
              "      <td>0</td>\n",
              "      <td>0</td>\n",
              "    </tr>\n",
              "    <tr>\n",
              "      <th>2</th>\n",
              "      <td>000113f07ec002fd</td>\n",
              "      <td>Hey man, I'm really not trying to edit war. It...</td>\n",
              "      <td>0</td>\n",
              "      <td>0</td>\n",
              "      <td>0</td>\n",
              "      <td>0</td>\n",
              "      <td>0</td>\n",
              "      <td>0</td>\n",
              "    </tr>\n",
              "    <tr>\n",
              "      <th>3</th>\n",
              "      <td>0001b41b1c6bb37e</td>\n",
              "      <td>\"\\nMore\\nI can't make any real suggestions on ...</td>\n",
              "      <td>0</td>\n",
              "      <td>0</td>\n",
              "      <td>0</td>\n",
              "      <td>0</td>\n",
              "      <td>0</td>\n",
              "      <td>0</td>\n",
              "    </tr>\n",
              "    <tr>\n",
              "      <th>4</th>\n",
              "      <td>0001d958c54c6e35</td>\n",
              "      <td>You, sir, are my hero. Any chance you remember...</td>\n",
              "      <td>0</td>\n",
              "      <td>0</td>\n",
              "      <td>0</td>\n",
              "      <td>0</td>\n",
              "      <td>0</td>\n",
              "      <td>0</td>\n",
              "    </tr>\n",
              "  </tbody>\n",
              "</table>\n",
              "</div>"
            ],
            "text/plain": [
              "                 id  ... identity_hate\n",
              "0  0000997932d777bf  ...             0\n",
              "1  000103f0d9cfb60f  ...             0\n",
              "2  000113f07ec002fd  ...             0\n",
              "3  0001b41b1c6bb37e  ...             0\n",
              "4  0001d958c54c6e35  ...             0\n",
              "\n",
              "[5 rows x 8 columns]"
            ]
          },
          "metadata": {
            "tags": []
          },
          "execution_count": 4
        }
      ]
    },
    {
      "cell_type": "code",
      "metadata": {
        "colab": {
          "base_uri": "https://localhost:8080/"
        },
        "id": "5D1KI8R6Rut-",
        "outputId": "550adb64-1696-4502-b629-4b6f3664f21a"
      },
      "source": [
        "classes = list(train.columns)[2:]\r\n",
        "classes"
      ],
      "execution_count": null,
      "outputs": [
        {
          "output_type": "execute_result",
          "data": {
            "text/plain": [
              "['toxic', 'severe_toxic', 'obscene', 'threat', 'insult', 'identity_hate']"
            ]
          },
          "metadata": {
            "tags": []
          },
          "execution_count": 5
        }
      ]
    },
    {
      "cell_type": "code",
      "metadata": {
        "colab": {
          "base_uri": "https://localhost:8080/"
        },
        "id": "nt4Tg-cmR2FH",
        "outputId": "d96a38c7-6212-4c49-fa7b-f1945c49a0bc"
      },
      "source": [
        "train[classes].sum()"
      ],
      "execution_count": null,
      "outputs": [
        {
          "output_type": "execute_result",
          "data": {
            "text/plain": [
              "toxic            15294\n",
              "severe_toxic      1595\n",
              "obscene           8449\n",
              "threat             478\n",
              "insult            7877\n",
              "identity_hate     1405\n",
              "dtype: int64"
            ]
          },
          "metadata": {
            "tags": []
          },
          "execution_count": 6
        }
      ]
    },
    {
      "cell_type": "code",
      "metadata": {
        "id": "RLMHH4U1SGzx"
      },
      "source": [
        "links = '(http://.*?\\s)|(http://.*)'\r\n",
        "ip_addr = '\\d{1,3}\\.\\d{1,3}\\.\\d{1,3}\\.\\d{1,3}'\r\n",
        "users = '\\[\\[User.*'\r\n",
        "newline = '\\\\n'\r\n",
        "def clean(comment):\r\n",
        "  import re\r\n",
        "  comment=comment.lower()\r\n",
        "  comment=re.sub(links,'',comment)\r\n",
        "  comment=re.sub(ip_addr,'',comment)\r\n",
        "  comment=re.sub(users,'',comment)\r\n",
        "  comment=re.sub(newline,'',comment)\r\n",
        "  return comment"
      ],
      "execution_count": null,
      "outputs": []
    },
    {
      "cell_type": "code",
      "metadata": {
        "id": "7swt_kAvSJc3"
      },
      "source": [
        "train['comment_text']=train['comment_text'].map(lambda i:clean(i))\r\n",
        "test['comment_text']=test['comment_text'].map(lambda i:clean(i))"
      ],
      "execution_count": null,
      "outputs": []
    },
    {
      "cell_type": "code",
      "metadata": {
        "colab": {
          "base_uri": "https://localhost:8080/"
        },
        "id": "V83mMZoRSK9j",
        "outputId": "e1d00e8a-a6c8-495a-dcff-015ab6ac131b"
      },
      "source": [
        "x=train['comment_text']\r\n",
        "y=train.iloc[:,2:8]\r\n",
        "print(x.shape)\r\n",
        "print(y.shape)"
      ],
      "execution_count": null,
      "outputs": [
        {
          "output_type": "stream",
          "text": [
            "(159571,)\n",
            "(159571, 6)\n"
          ],
          "name": "stdout"
        }
      ]
    },
    {
      "cell_type": "code",
      "metadata": {
        "id": "vSma_7F5Sbij"
      },
      "source": [
        "from sklearn.model_selection import train_test_split\r\n",
        "X_train, X_val, y_train, y_val = train_test_split(x,y,test_size=0.2,random_state=1)"
      ],
      "execution_count": null,
      "outputs": []
    },
    {
      "cell_type": "code",
      "metadata": {
        "id": "s_1W-77hmtqs"
      },
      "source": [
        "labels = pd.read_csv(path + \"test_labels.csv\")\r\n",
        "labels=labels.iloc[:,1:]\r\n",
        "sum_labels=np.sum(labels,axis=1)\r\n",
        "idx=sum_labels>=0"
      ],
      "execution_count": null,
      "outputs": []
    },
    {
      "cell_type": "code",
      "metadata": {
        "colab": {
          "base_uri": "https://localhost:8080/"
        },
        "id": "tXwaUkEVnb1G",
        "outputId": "5d50644e-ca9c-4c6c-b99b-90c08ebc37f3"
      },
      "source": [
        "labels_consider=labels[idx]\r\n",
        "test=test.iloc[:,1:]\r\n",
        "tests_consider=test[idx].values[:,0]\r\n",
        "\r\n",
        "print(labels_consider.shape, tests_consider.shape)"
      ],
      "execution_count": null,
      "outputs": [
        {
          "output_type": "stream",
          "text": [
            "(63978, 6) (63978,)\n"
          ],
          "name": "stdout"
        }
      ]
    },
    {
      "cell_type": "code",
      "metadata": {
        "id": "EXi9Z5pynkzy"
      },
      "source": [
        "from sklearn.model_selection import train_test_split\r\n",
        "X_train, X_val, y_train, y_val = train_test_split(x,y,test_size=0.2,random_state=1)"
      ],
      "execution_count": null,
      "outputs": []
    },
    {
      "cell_type": "code",
      "metadata": {
        "id": "G95ouXAAnmcF"
      },
      "source": [
        "from sklearn.feature_extraction.text import TfidfVectorizer\r\n",
        "tfidf=TfidfVectorizer(max_features=5000,strip_accents='unicode',stop_words='english',token_pattern=r'\\w{2,}')"
      ],
      "execution_count": null,
      "outputs": []
    },
    {
      "cell_type": "code",
      "metadata": {
        "colab": {
          "base_uri": "https://localhost:8080/"
        },
        "id": "R99MLXVfSPLx",
        "outputId": "c3f9f620-b5e7-4d14-90be-317c109c3802"
      },
      "source": [
        "tfidf.fit(X_train)\r\n",
        "X_train_feat=tfidf.fit_transform(X_train)\r\n",
        "print(X_train_feat.shape)\r\n",
        "\r\n",
        "X_val_feat=tfidf.transform(X_val)\r\n",
        "print(X_val_feat.shape)\r\n",
        "\r\n",
        "X_test_feat=tfidf.transform(tests_consider)\r\n",
        "print(X_test_feat.shape)"
      ],
      "execution_count": null,
      "outputs": [
        {
          "output_type": "stream",
          "text": [
            "(127656, 5000)\n",
            "(31915, 5000)\n",
            "(63978, 5000)\n"
          ],
          "name": "stdout"
        }
      ]
    },
    {
      "cell_type": "code",
      "metadata": {
        "colab": {
          "base_uri": "https://localhost:8080/"
        },
        "id": "fUCeyI8HSVJI",
        "outputId": "68442d0a-9d10-4c87-b10b-7fd2a121da32"
      },
      "source": [
        "!pip install scikit-multilearn"
      ],
      "execution_count": null,
      "outputs": [
        {
          "output_type": "stream",
          "text": [
            "Collecting scikit-multilearn\n",
            "\u001b[?25l  Downloading https://files.pythonhosted.org/packages/bb/1f/e6ff649c72a1cdf2c7a1d31eb21705110ce1c5d3e7e26b2cc300e1637272/scikit_multilearn-0.2.0-py3-none-any.whl (89kB)\n",
            "\r\u001b[K     |███▊                            | 10kB 14.4MB/s eta 0:00:01\r\u001b[K     |███████▍                        | 20kB 10.6MB/s eta 0:00:01\r\u001b[K     |███████████                     | 30kB 8.3MB/s eta 0:00:01\r\u001b[K     |██████████████▊                 | 40kB 7.3MB/s eta 0:00:01\r\u001b[K     |██████████████████▍             | 51kB 4.5MB/s eta 0:00:01\r\u001b[K     |██████████████████████          | 61kB 4.8MB/s eta 0:00:01\r\u001b[K     |█████████████████████████▊      | 71kB 4.9MB/s eta 0:00:01\r\u001b[K     |█████████████████████████████▍  | 81kB 5.4MB/s eta 0:00:01\r\u001b[K     |████████████████████████████████| 92kB 3.9MB/s \n",
            "\u001b[?25hInstalling collected packages: scikit-multilearn\n",
            "Successfully installed scikit-multilearn-0.2.0\n"
          ],
          "name": "stdout"
        }
      ]
    },
    {
      "cell_type": "code",
      "metadata": {
        "colab": {
          "base_uri": "https://localhost:8080/"
        },
        "id": "Z7_J4fxCSXvU",
        "outputId": "784866b8-b2dc-4a93-dee6-5ce2860e2280"
      },
      "source": [
        "print(X_train.shape)\r\n",
        "print(y_train.shape)"
      ],
      "execution_count": null,
      "outputs": [
        {
          "output_type": "stream",
          "text": [
            "(127656,)\n",
            "(127656, 6)\n"
          ],
          "name": "stdout"
        }
      ]
    },
    {
      "cell_type": "code",
      "metadata": {
        "id": "Iiz_Uvl7SZTz",
        "colab": {
          "base_uri": "https://localhost:8080/"
        },
        "outputId": "63e83c63-53af-4c8c-feaa-14e56ae331da"
      },
      "source": [
        "from skmultilearn.problem_transform import BinaryRelevance\r\n",
        "from sklearn.svm import SVC\r\n",
        "\r\n",
        "model_br = BinaryRelevance(classifier = SVC(), require_dense = [False, True])\r\n",
        "model_br.fit(X_train_feat, y_train)"
      ],
      "execution_count": null,
      "outputs": [
        {
          "output_type": "execute_result",
          "data": {
            "text/plain": [
              "BinaryRelevance(classifier=SVC(C=1.0, break_ties=False, cache_size=200,\n",
              "                               class_weight=None, coef0=0.0,\n",
              "                               decision_function_shape='ovr', degree=3,\n",
              "                               gamma='scale', kernel='rbf', max_iter=-1,\n",
              "                               probability=False, random_state=None,\n",
              "                               shrinking=True, tol=0.001, verbose=False),\n",
              "                require_dense=[False, True])"
            ]
          },
          "metadata": {
            "tags": []
          },
          "execution_count": 18
        }
      ]
    },
    {
      "cell_type": "code",
      "metadata": {
        "id": "vqLQzswyjn4C"
      },
      "source": [
        "preds_train = model_br.predict(X_train_feat)"
      ],
      "execution_count": null,
      "outputs": []
    },
    {
      "cell_type": "code",
      "metadata": {
        "id": "WrkaFqBHjwXW",
        "colab": {
          "base_uri": "https://localhost:8080/"
        },
        "outputId": "0b138ad2-6517-429e-fbce-7abfef805628"
      },
      "source": [
        "from sklearn.metrics import roc_auc_score, hamming_loss, precision_score, recall_score, f1_score,\r\n",
        "\r\n",
        "print(roc_auc_score(y_train, preds_train.toarray()))\r\n"
      ],
      "execution_count": null,
      "outputs": [
        {
          "output_type": "stream",
          "text": [
            "0.7849777264669738\n"
          ],
          "name": "stdout"
        }
      ]
    },
    {
      "cell_type": "code",
      "metadata": {
        "id": "nKI-W9SGpGV8"
      },
      "source": [
        "preds_val = model_br.predict(X_val_feat)"
      ],
      "execution_count": null,
      "outputs": []
    },
    {
      "cell_type": "code",
      "metadata": {
        "id": "u2HHUgD3qoyn",
        "colab": {
          "base_uri": "https://localhost:8080/"
        },
        "outputId": "1cd0e7cb-e0ca-4778-a486-dcf43b43854b"
      },
      "source": [
        "print(roc_auc_score(y_val, preds_val.toarray()))"
      ],
      "execution_count": null,
      "outputs": [
        {
          "output_type": "stream",
          "text": [
            "0.6775881668496974\n"
          ],
          "name": "stdout"
        }
      ]
    },
    {
      "cell_type": "code",
      "metadata": {
        "id": "zDcZS-mrquDj"
      },
      "source": [
        "preds_test = model_br.predict(X_test_feat)"
      ],
      "execution_count": null,
      "outputs": []
    },
    {
      "cell_type": "code",
      "metadata": {
        "id": "6JJIpRyPtHNw",
        "colab": {
          "base_uri": "https://localhost:8080/"
        },
        "outputId": "7a84484d-559c-43ec-edd2-e0755863be92"
      },
      "source": [
        "from sklearn.metrics import roc_auc_score, hamming_loss, accuracy_score, log_loss\r\n",
        "print(\"ROC AUC Score: \", roc_auc_score(labels_consider, preds_test.toarray()))\r\n",
        "print(\"Hamming Loss: \", hamming_loss(labels_consider, preds_test.toarray()))\r\n",
        "print(\"Log Loss: \", log_loss(labels_consider, preds_test.toarray()))\r\n",
        "print(\"Accuracy Score: \", accuracy_score(labels_consider, preds_test.toarray()))"
      ],
      "execution_count": null,
      "outputs": [
        {
          "output_type": "stream",
          "text": [
            "ROC AUC Score:  0.6886074082694079\n",
            "Hamming Loss:  0.02672533266643742\n",
            "Log Loss:  1.6236715870057155\n",
            "Accuracy Score:  0.8928225327456313\n"
          ],
          "name": "stdout"
        }
      ]
    },
    {
      "cell_type": "code",
      "metadata": {
        "id": "TM-E4ZbDrlSN"
      },
      "source": [
        "import pickle\r\n",
        "path = '/content/gdrive/My Drive/dataset_toxic_comment/saved_model/SVM_Binary_Relevance/'\r\n",
        "pickle.dump(model_br, open(path + \"SVM_Binary_Relevance.sav\", 'wb'))"
      ],
      "execution_count": null,
      "outputs": []
    },
    {
      "cell_type": "code",
      "metadata": {
        "id": "ITOqpukt2n1t"
      },
      "source": [
        "loaded_model = pickle.load(open(path + \"SVM_Binary_Relevance.sav\", 'rb'))\r\n",
        "preds_test = model_br.predict(X_test_feat)\r\n",
        "print(roc_auc_score(labels_consider, preds_test.toarray()))"
      ],
      "execution_count": null,
      "outputs": []
    },
    {
      "cell_type": "code",
      "metadata": {
        "id": "nqC7TtD7ufwZ",
        "colab": {
          "base_uri": "https://localhost:8080/"
        },
        "outputId": "899f100d-abb2-404e-e8da-03a8623b4185"
      },
      "source": [
        "from skmultilearn.problem_transform import ClassifierChain\r\n",
        "from sklearn.svm import SVC\r\n",
        "\r\n",
        "model_cc = ClassifierChain(classifier = SVC(), require_dense = [False, True])\r\n",
        "model_cc.fit(X_train_feat, y_train)"
      ],
      "execution_count": null,
      "outputs": [
        {
          "output_type": "execute_result",
          "data": {
            "text/plain": [
              "ClassifierChain(classifier=SVC(C=1.0, break_ties=False, cache_size=200,\n",
              "                               class_weight=None, coef0=0.0,\n",
              "                               decision_function_shape='ovr', degree=3,\n",
              "                               gamma='scale', kernel='rbf', max_iter=-1,\n",
              "                               probability=False, random_state=None,\n",
              "                               shrinking=True, tol=0.001, verbose=False),\n",
              "                order=None, require_dense=[False, True])"
            ]
          },
          "metadata": {
            "tags": []
          },
          "execution_count": 33
        }
      ]
    },
    {
      "cell_type": "code",
      "metadata": {
        "id": "ZudGERjquk7Q"
      },
      "source": [
        "preds_train = model_cc.predict(X_train_feat)"
      ],
      "execution_count": null,
      "outputs": []
    },
    {
      "cell_type": "code",
      "metadata": {
        "id": "Vva6ws4jumbi",
        "colab": {
          "base_uri": "https://localhost:8080/"
        },
        "outputId": "a8d659cc-0689-473b-b117-0f358fddc6fa"
      },
      "source": [
        "from sklearn.metrics import roc_auc_score, accuracy_score\r\n",
        "\r\n",
        "print(roc_auc_score(y_train, preds_train.toarray()))"
      ],
      "execution_count": null,
      "outputs": [
        {
          "output_type": "stream",
          "text": [
            "0.7804921656671743\n"
          ],
          "name": "stdout"
        }
      ]
    },
    {
      "cell_type": "code",
      "metadata": {
        "id": "Dn1pXPWGunfu"
      },
      "source": [
        "\r\n",
        "preds_val = model_cc.predict(X_val_feat)"
      ],
      "execution_count": null,
      "outputs": []
    },
    {
      "cell_type": "code",
      "metadata": {
        "id": "H2IbKbTzuozO",
        "colab": {
          "base_uri": "https://localhost:8080/"
        },
        "outputId": "0eb745d1-2982-4f38-c185-d95a60c555f6"
      },
      "source": [
        "print(roc_auc_score(y_val, preds_val.toarray()))"
      ],
      "execution_count": null,
      "outputs": [
        {
          "output_type": "stream",
          "text": [
            "0.6921115346926116\n"
          ],
          "name": "stdout"
        }
      ]
    },
    {
      "cell_type": "code",
      "metadata": {
        "id": "3Lh1NAx-uqMI"
      },
      "source": [
        "preds_test = model_cc.predict(X_test_feat)"
      ],
      "execution_count": null,
      "outputs": []
    },
    {
      "cell_type": "code",
      "metadata": {
        "colab": {
          "base_uri": "https://localhost:8080/"
        },
        "id": "BgP49IpTurhk",
        "outputId": "b2a5162d-798c-4316-a51f-5abc0bd7bde0"
      },
      "source": [
        "from sklearn.metrics import roc_auc_score, hamming_loss, accuracy_score, log_loss\r\n",
        "print(\"ROC AUC Score: \", roc_auc_score(labels_consider, preds_test.toarray()))\r\n",
        "print(\"Hamming Loss: \", hamming_loss(labels_consider, preds_test.toarray()))\r\n",
        "print(\"Log Loss: \", log_loss(labels_consider, preds_test.toarray()))\r\n",
        "print(\"Accuracy Score: \", accuracy_score(labels_consider, preds_test.toarray()))"
      ],
      "execution_count": null,
      "outputs": [
        {
          "output_type": "stream",
          "text": [
            "ROC AUC Score:  0.7005223066528395\n",
            "Hamming Loss:  0.02836912688736753\n",
            "Log Loss:  1.5139978269884409\n",
            "Accuracy Score:  0.892994466847979\n"
          ],
          "name": "stdout"
        }
      ]
    },
    {
      "cell_type": "code",
      "metadata": {
        "id": "9Z6GlkFSXQ4E"
      },
      "source": [
        "path = '/content/gdrive/My Drive/dataset_toxic_comment/saved_model/SVM_Classifier_Chain/'\r\n",
        "pickle.dump(model_br, open(path + \"SVM_Classifier_Chain.sav\", 'wb'))"
      ],
      "execution_count": null,
      "outputs": []
    }
  ]
}